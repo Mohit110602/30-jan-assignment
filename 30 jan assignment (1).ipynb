{
 "cells": [
  {
   "cell_type": "code",
   "execution_count": 3,
   "id": "1e9f5efb-f6bb-4e32-822e-d57c7f1321fb",
   "metadata": {},
   "outputs": [
    {
     "name": "stdin",
     "output_type": "stream",
     "text": [
      "Enter the marks 67\n"
     ]
    },
    {
     "name": "stdout",
     "output_type": "stream",
     "text": [
      "You got grade C\n"
     ]
    }
   ],
   "source": [
    "#1)\n",
    "marks=int(input('Enter the marks'))\n",
    "if marks>90:\n",
    "    print('You got grade A')\n",
    "elif marks>80 and marks<=90:\n",
    "    print('You got grade B')\n",
    "elif marks>=60 and marks<=80:\n",
    "    print('You got grade C')\n",
    "else:\n",
    "    print('You got grade D')"
   ]
  },
  {
   "cell_type": "code",
   "execution_count": 2,
   "id": "6cff51e3-eb71-4ac9-b4ff-85444f31899f",
   "metadata": {},
   "outputs": [
    {
     "name": "stdin",
     "output_type": "stream",
     "text": [
      "Enter the cost of bike 500000\n"
     ]
    },
    {
     "name": "stdout",
     "output_type": "stream",
     "text": [
      "The tax is 15%\n"
     ]
    }
   ],
   "source": [
    "#2)\n",
    "cost_of_bike=int(input('Enter the cost of bike'))\n",
    "if cost_of_bike>100000:\n",
    "    print('The tax is 15%')\n",
    "elif cost_of_bike<=100000 and cost_of_bike>50000:\n",
    "    print('The tax is 10%')\n",
    "else:\n",
    "    print('The tax is 5%')"
   ]
  },
  {
   "cell_type": "code",
   "execution_count": 4,
   "id": "91d77d3d-d5cb-4113-8fb7-41b17f4f94d7",
   "metadata": {},
   "outputs": [
    {
     "name": "stdin",
     "output_type": "stream",
     "text": [
      "Enter the city Delhi\n"
     ]
    },
    {
     "name": "stdout",
     "output_type": "stream",
     "text": [
      "Red Fort\n"
     ]
    }
   ],
   "source": [
    "#3)\n",
    "city=input('Enter the city')\n",
    "if city=='Delhi':\n",
    "    print('Red Fort')\n",
    "if city=='Agra':\n",
    "    print('Taj Mahal')\n",
    "elif city=='Jaipur':\n",
    "    print('Jal Mahal')\n",
    "    "
   ]
  },
  {
   "cell_type": "code",
   "execution_count": 5,
   "id": "a5ac95bf-f93f-41f6-8279-2828c5d8df0f",
   "metadata": {},
   "outputs": [
    {
     "name": "stdin",
     "output_type": "stream",
     "text": [
      "Enter any no.:  978\n"
     ]
    },
    {
     "name": "stdout",
     "output_type": "stream",
     "text": [
      "5\n"
     ]
    }
   ],
   "source": [
    "#4)\n",
    "n=float(input('Enter any no.: '))\n",
    "count=0\n",
    "while n>10:\n",
    "    n=n/3\n",
    "    count=count+1\n",
    "print(count)"
   ]
  },
  {
   "cell_type": "code",
   "execution_count": null,
   "id": "9aa389c1-b6b5-4986-851a-f4066149072c",
   "metadata": {},
   "outputs": [],
   "source": [
    "#5)\n",
    " while loop is used in Python to run a block code until a certain condition is met.\n",
    "    a=1\n",
    "    while a<=3:\n",
    "        print(a)\n",
    "        a+=1"
   ]
  },
  {
   "cell_type": "code",
   "execution_count": 1,
   "id": "9b5e3b61-3d4a-4cc0-a36c-cfecf43f732e",
   "metadata": {},
   "outputs": [
    {
     "name": "stdin",
     "output_type": "stream",
     "text": [
      "Enter number of rows :  4\n"
     ]
    },
    {
     "name": "stdout",
     "output_type": "stream",
     "text": [
      "* \n",
      "* * \n",
      "* * * \n",
      "* * * * \n"
     ]
    }
   ],
   "source": [
    "#6)\n",
    "#1)\n",
    "n = int(input('Enter number of rows : '))\n",
    " \n",
    "i = 1\n",
    "while i <= n :\n",
    "    j = 1\n",
    "    while j <= i:\n",
    "        print(\"*\", end = \" \")\n",
    "        j += 1\n",
    "    print()\n",
    "    i += 1\n"
   ]
  },
  {
   "cell_type": "code",
   "execution_count": 4,
   "id": "61e0be09-7e89-4098-a209-0290bac8f007",
   "metadata": {},
   "outputs": [
    {
     "name": "stdin",
     "output_type": "stream",
     "text": [
      "Enter number of rows :  4\n"
     ]
    },
    {
     "name": "stdout",
     "output_type": "stream",
     "text": [
      "* * * * \n",
      "* * * \n",
      "* * \n",
      "* \n"
     ]
    }
   ],
   "source": [
    "#6)\n",
    "#2)\n",
    "n = int(input('Enter number of rows : '))\n",
    "i = 1\n",
    "while i <= n :\n",
    "    j = n\n",
    "    while j >= i:\n",
    "        print(\"*\", end = \" \")\n",
    "        j -= 1\n",
    "    print()\n",
    "    i += 1"
   ]
  },
  {
   "cell_type": "code",
   "execution_count": 8,
   "id": "aff5237e-c645-4b9a-8625-5c5ce4d7b831",
   "metadata": {},
   "outputs": [
    {
     "name": "stdin",
     "output_type": "stream",
     "text": [
      "Enter number of rows :  4\n"
     ]
    },
    {
     "name": "stdout",
     "output_type": "stream",
     "text": [
      "1 \n",
      "2 3 \n",
      "4 5 6 \n",
      "7 8 9 10 \n"
     ]
    }
   ],
   "source": [
    "#6)\n",
    "#3)\n",
    "n = int(input('Enter number of rows : '))\n",
    " \n",
    "k = 1\n",
    "i = 1\n",
    "while i <= n :\n",
    "    j = 1\n",
    "    while j <= i:\n",
    "        print(k, end=\" \")\n",
    "        j += 1\n",
    "        k += 1\n",
    "    print()\n",
    "    i += 1"
   ]
  },
  {
   "cell_type": "code",
   "execution_count": null,
   "id": "84efa75a-fc58-48ce-943b-72d67fe2f82a",
   "metadata": {},
   "outputs": [],
   "source": [
    "#7)\n",
    "a=1\n",
    "while a<=10:\n",
    "    print(11-a)\n",
    "    a+=1"
   ]
  },
  {
   "cell_type": "code",
   "execution_count": null,
   "id": "5abb8e3f-6abf-4f73-ae0e-50adc6d1e0df",
   "metadata": {},
   "outputs": [],
   "source": [
    "#8)\n",
    "for i in range(10,0,-1):\n",
    "    print(i)"
   ]
  }
 ],
 "metadata": {
  "kernelspec": {
   "display_name": "Python 3 (ipykernel)",
   "language": "python",
   "name": "python3"
  },
  "language_info": {
   "codemirror_mode": {
    "name": "ipython",
    "version": 3
   },
   "file_extension": ".py",
   "mimetype": "text/x-python",
   "name": "python",
   "nbconvert_exporter": "python",
   "pygments_lexer": "ipython3",
   "version": "3.10.8"
  }
 },
 "nbformat": 4,
 "nbformat_minor": 5
}
